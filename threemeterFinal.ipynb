{
 "cells": [
  {
   "cell_type": "markdown",
   "metadata": {},
   "source": [
    "## Problem 3 - Three Meter Dataset"
   ]
  },
  {
   "cell_type": "code",
   "execution_count": 1,
   "metadata": {},
   "outputs": [],
   "source": [
    "import os\n",
    "import pandas as pd\n",
    "import torch\n",
    "import numpy as np\n",
    "import torchvision\n",
    "from torch import nn\n",
    "import torch.optim as optim\n",
    "import torch.nn.functional as F\n",
    "from torch.autograd import Variable\n",
    "from torch.utils.data import DataLoader\n",
    "from torch.utils.data import Dataset\n",
    "from torchvision import transforms\n",
    "from sklearn.model_selection import train_test_split\n",
    "import matplotlib.pyplot as plt"
   ]
  },
  {
   "cell_type": "code",
   "execution_count": 2,
   "metadata": {},
   "outputs": [],
   "source": [
    "#setting parameters\n",
    "num_epochs = 40\n",
    "batch_size = 100"
   ]
  },
  {
   "cell_type": "code",
   "execution_count": 3,
   "metadata": {},
   "outputs": [],
   "source": [
    "#Reading csv dataset file\n",
    "dataset = pd.read_csv('data.csv')\n",
    "#getting a npy file\n",
    "training_set = np.array(dataset, dtype = 'float32')\n",
    "#saving a npy file\n",
    "np.save('training_set.npy',training_set)"
   ]
  },
  {
   "cell_type": "code",
   "execution_count": 4,
   "metadata": {},
   "outputs": [],
   "source": [
    "#loading the dataset\n",
    "training_set = np.load('training_set.npy')"
   ]
  },
  {
   "cell_type": "code",
   "execution_count": 15,
   "metadata": {},
   "outputs": [
    {
     "name": "stdout",
     "output_type": "stream",
     "text": [
      "(118320, 33) (20881, 33)\n"
     ]
    }
   ],
   "source": [
    "#Splitting the dataset into trainign and testing: The split is the default split of: 85% (training) - 15% (testing)\n",
    "train, test = train_test_split(training_set, test_size = 0.15)\n",
    "print(np.array(train).shape, np.array(test).shape)"
   ]
  },
  {
   "cell_type": "code",
   "execution_count": 6,
   "metadata": {},
   "outputs": [],
   "source": [
    "#Loads the images using loader class\n",
    "#Abstract class representing a dataset\n",
    "class ImgLoader(Dataset):\n",
    "    def __init__(self, x, iscuda=False, transform=None):\n",
    "        self.x = np.array(x)\n",
    "        self.transform=transform\n",
    "        self.cuda = iscuda\n",
    "        \n",
    "#supports indexing\n",
    "    def __getitem__(self, index):\n",
    "        x_val = self.x[index]\n",
    "        return x_val\n",
    "\n",
    "#returns size of dataset\n",
    "    def __len__(self):\n",
    "        return len(self.x)"
   ]
  },
  {
   "cell_type": "code",
   "execution_count": 7,
   "metadata": {},
   "outputs": [],
   "source": [
    "#Checks for whether cuda is available so as to run on GPU or not\n",
    "use_cuda = torch.cuda.is_available()\n",
    "#img_loadertrain has the training images; on which transformations have been performed\n",
    "img_loadertrain = ImgLoader(train, use_cuda, transform = None)\n",
    "img_loadertest = ImgLoader(test, use_cuda, transform = None)\n",
    "#datatrainloader has the training images; on which transformations have been performed\n",
    "datatrainloader = DataLoader(img_loadertrain, batch_size=batch_size, shuffle=True)\n",
    "#datatestloader has the training images; on which transformations have been performed\n",
    "datatestloader = DataLoader(img_loadertest, batch_size=batch_size, shuffle=True)"
   ]
  },
  {
   "cell_type": "code",
   "execution_count": 8,
   "metadata": {},
   "outputs": [
    {
     "name": "stdout",
     "output_type": "stream",
     "text": [
      "[4.7509 4.5877 4.5806 4.4718 4.4896 4.5586 4.4464 4.4881 4.6308 4.4433\n",
      " 4.416  5.2101 5.1738 5.2229 5.2921 5.1908 5.021  5.5276 5.1263 5.3276\n",
      " 4.5624 4.5075 4.6902 4.6521 4.6377 4.6332 4.4965 4.571  4.6604 4.6174\n",
      " 4.6203 4.3283 4.6922]\n",
      "[4.769  4.5664 4.5575 4.4865 4.492  4.5608 4.4491 4.4823 4.6232 4.4422\n",
      " 4.4148 5.1949 5.1545 5.2006 5.2941 5.1873 5.0447 5.5405 5.1336 5.3107\n",
      " 4.5775 4.5216 4.6699 4.6195 4.6073 4.6376 4.5247 4.5564 4.6631 4.6267\n",
      " 4.609  4.32   4.7057]\n"
     ]
    }
   ],
   "source": [
    "print(img_loadertest[0])\n",
    "print(img_loadertrain[0])"
   ]
  },
  {
   "cell_type": "code",
   "execution_count": 9,
   "metadata": {},
   "outputs": [],
   "source": [
    "#Network autoencoder is defined\n",
    "class SAE(nn.Module):\n",
    "    def __init__(self, ):\n",
    "        # super function is used to use classes of parent class\n",
    "        super(SAE,self).__init__()\n",
    "        #encoding network\n",
    "        self.fc1 = nn.Linear(33, 20)\n",
    "        self.fc2 = nn.Linear(20, 10)\n",
    "        #decoding network\n",
    "        self.fc3 = nn.Linear(10, 20)\n",
    "        self.fc4 = nn.Linear(20, 33)\n",
    "    def forward(self, x):\n",
    "        x = (self.fc1(x))\n",
    "        x = (self.fc2(x))\n",
    "        x = (self.fc3(x))\n",
    "        x = (self.fc4(x))\n",
    "        return x"
   ]
  },
  {
   "cell_type": "code",
   "execution_count": 10,
   "metadata": {},
   "outputs": [],
   "source": [
    "#Making instance of the network\n",
    "sae = SAE()\n",
    "#Getting L1Loss\n",
    "criterion = nn.L1Loss()\n",
    "#Using Adam's optimizer for optimizing the gradient learning\n",
    "optimizer = torch.optim.Adam(sae.parameters(), lr=0.01, weight_decay=0.5)"
   ]
  },
  {
   "cell_type": "code",
   "execution_count": 11,
   "metadata": {},
   "outputs": [],
   "source": [
    "#Evaltestloss function called to calculate the loss of testing data on the trained model\n",
    "testloss = 0\n",
    "testlosses = []\n",
    "trainingloss = []\n",
    "def evaltestloss(model, datatestloader):\n",
    "    model.train(False)\n",
    "    for data1 in datatestloader:\n",
    "        x2 = data1.to(device, dtype=torch.float32)\n",
    "        if use_cuda:\n",
    "            x2 = x2.cuda()\n",
    "        #reinitialise the optimiser gradient to 0\n",
    "        optimizer.zero_grad()\n",
    "        #input to the network is training data\n",
    "        x2 = Variable(x2)\n",
    "        output1 = sae(x2)\n",
    "        testloss = criterion(output1, x2)\n",
    "        testloss.backward()\n",
    "        optimizer.step()\n",
    "        testloss1 = testloss.data[0]\n",
    "    return np.average(testloss1)"
   ]
  },
  {
   "cell_type": "code",
   "execution_count": 12,
   "metadata": {
    "scrolled": true
   },
   "outputs": [
    {
     "name": "stdout",
     "output_type": "stream",
     "text": [
      "Default initial weights: \n",
      "Parameter containing:\n",
      "tensor([[-0.0671, -0.0430, -0.1428, -0.1419, -0.0509,  0.0101,  0.0184, -0.1388,\n",
      "          0.0543,  0.0973,  0.0300,  0.1026, -0.0974, -0.0061, -0.0442, -0.0856,\n",
      "          0.1356, -0.0817, -0.1358, -0.1029, -0.1060, -0.0683,  0.1054,  0.0082,\n",
      "          0.1312,  0.0308,  0.0811, -0.0261, -0.1023,  0.0353,  0.0608,  0.1198,\n",
      "          0.1077],\n",
      "        [ 0.1590,  0.1348, -0.0732,  0.0149,  0.0350, -0.0573, -0.0924, -0.0421,\n",
      "         -0.0269, -0.0890,  0.0133,  0.0467, -0.0963,  0.0058, -0.1418,  0.0555,\n",
      "          0.1501, -0.0163,  0.0513,  0.1246,  0.0060, -0.0279,  0.0551, -0.1457,\n",
      "         -0.0481, -0.0404,  0.1270,  0.1713, -0.0832, -0.0316, -0.1415, -0.0315,\n",
      "         -0.0787],\n",
      "        [-0.0259,  0.1427,  0.1381,  0.0964,  0.0784, -0.0886,  0.0391, -0.0867,\n",
      "          0.1674, -0.0358, -0.1351,  0.1645, -0.0145, -0.0344,  0.0975,  0.1512,\n",
      "         -0.1470, -0.1640, -0.0693, -0.0033,  0.0971,  0.0757,  0.0787,  0.0806,\n",
      "          0.0498,  0.0628, -0.0026, -0.0590, -0.0257, -0.0139, -0.0726, -0.0080,\n",
      "         -0.1686],\n",
      "        [ 0.0157,  0.1293, -0.0463,  0.1657, -0.1161,  0.0539, -0.0077,  0.1067,\n",
      "          0.1598, -0.0773, -0.1496, -0.0362, -0.1053,  0.1294, -0.0826,  0.1325,\n",
      "          0.1382,  0.0613, -0.0991, -0.0744,  0.1654, -0.1556,  0.0012,  0.1452,\n",
      "          0.1237, -0.1496, -0.0387,  0.0083, -0.1173, -0.0343,  0.1650, -0.0199,\n",
      "         -0.0727],\n",
      "        [ 0.1730,  0.0689, -0.1249,  0.1136,  0.0003, -0.0720,  0.1484,  0.0399,\n",
      "          0.0605,  0.1434,  0.0232,  0.1552, -0.0592,  0.1594, -0.1285,  0.0232,\n",
      "          0.0541,  0.0782, -0.0957, -0.0813,  0.1115, -0.1445, -0.1658, -0.0301,\n",
      "         -0.1130, -0.1156, -0.1060, -0.0247, -0.1071,  0.1010,  0.0592, -0.0593,\n",
      "          0.1038],\n",
      "        [ 0.1578, -0.1322, -0.1514, -0.1619, -0.0850,  0.1488,  0.0503, -0.0783,\n",
      "          0.0882,  0.0954, -0.0838, -0.0555,  0.0898, -0.0527, -0.1675,  0.0459,\n",
      "          0.0009,  0.1174,  0.0124,  0.1316, -0.0081, -0.0012, -0.1630, -0.1646,\n",
      "          0.1232, -0.1256, -0.0242, -0.0746, -0.0781, -0.1516, -0.1721,  0.1585,\n",
      "         -0.1571],\n",
      "        [-0.0603,  0.0461, -0.0951, -0.0058,  0.1144, -0.1647, -0.0957, -0.0585,\n",
      "          0.0984, -0.0877, -0.1313, -0.0408,  0.1177, -0.0349,  0.0251, -0.1428,\n",
      "         -0.0686, -0.0066,  0.1733, -0.1582, -0.1607, -0.0605, -0.0332,  0.0052,\n",
      "         -0.0419,  0.1201,  0.1293, -0.0621,  0.0425, -0.0233, -0.0818, -0.0727,\n",
      "          0.0957],\n",
      "        [-0.0799,  0.1429, -0.0476,  0.1155, -0.0362, -0.0298,  0.0865,  0.1592,\n",
      "          0.1275,  0.1114,  0.1424, -0.1448, -0.1672, -0.0587, -0.1662,  0.0383,\n",
      "         -0.1547,  0.0248, -0.1138,  0.0192, -0.0267, -0.1450, -0.1472, -0.1273,\n",
      "         -0.1529,  0.0356,  0.0437, -0.1079,  0.1086,  0.0371,  0.1414,  0.0974,\n",
      "         -0.0046],\n",
      "        [-0.1597, -0.0918,  0.1367,  0.0872,  0.0989,  0.0072,  0.1147,  0.1293,\n",
      "          0.1723,  0.0285, -0.0861,  0.1539,  0.0804,  0.0638,  0.0882,  0.0045,\n",
      "          0.0453, -0.0380,  0.0038,  0.0442,  0.0968, -0.1543,  0.1597,  0.0112,\n",
      "          0.1393,  0.0569,  0.0104, -0.1291, -0.0861,  0.1208, -0.0484,  0.0370,\n",
      "         -0.1278],\n",
      "        [-0.0618, -0.0567, -0.0418, -0.0885,  0.0076, -0.0711,  0.1358,  0.0908,\n",
      "         -0.0583,  0.1592, -0.0668, -0.0004,  0.1308, -0.1532, -0.1463, -0.0090,\n",
      "         -0.0400,  0.0592,  0.1237, -0.0871, -0.0904, -0.1299, -0.1031, -0.1133,\n",
      "         -0.0923, -0.1107, -0.0023,  0.1534,  0.1716, -0.1308,  0.0317, -0.0404,\n",
      "          0.1724],\n",
      "        [-0.0449,  0.1644, -0.1592, -0.0881,  0.0652, -0.0370,  0.1125, -0.0112,\n",
      "         -0.0048,  0.0472, -0.0966,  0.0432, -0.0008,  0.0595, -0.0896,  0.0377,\n",
      "         -0.0246,  0.0122, -0.1020, -0.1276, -0.1727, -0.1504,  0.0055,  0.0188,\n",
      "         -0.1467, -0.1110,  0.0687, -0.1630,  0.0739,  0.1494, -0.0220, -0.1034,\n",
      "         -0.0090],\n",
      "        [-0.0167,  0.0537,  0.1375, -0.1191, -0.0523,  0.0450,  0.1173,  0.1547,\n",
      "          0.1040,  0.0852,  0.0117,  0.0762, -0.0313, -0.1555, -0.0374,  0.1110,\n",
      "         -0.0592, -0.0214,  0.1382, -0.0948,  0.1480, -0.0710,  0.0622, -0.0496,\n",
      "          0.0371, -0.1059,  0.1137, -0.0219, -0.1045,  0.1106,  0.1240,  0.1140,\n",
      "         -0.1469],\n",
      "        [ 0.0840,  0.1079,  0.1688, -0.0619, -0.1100, -0.0679,  0.0574, -0.0908,\n",
      "          0.0309, -0.0700,  0.0268, -0.0864,  0.0165,  0.1046, -0.1656,  0.0997,\n",
      "          0.0526,  0.1250,  0.0712, -0.1335,  0.1636, -0.1684,  0.0647,  0.0711,\n",
      "          0.0155, -0.0737, -0.0057,  0.1648,  0.0861,  0.0974, -0.1002,  0.1623,\n",
      "          0.0171],\n",
      "        [ 0.0029,  0.1616, -0.0685, -0.0536,  0.1525,  0.0076,  0.0727, -0.0357,\n",
      "         -0.0900, -0.0861,  0.1500,  0.0644,  0.1195, -0.1135, -0.0698, -0.0238,\n",
      "         -0.1452, -0.1370, -0.0026,  0.1342, -0.1294,  0.0503,  0.0518,  0.1598,\n",
      "          0.1220,  0.0652, -0.0630,  0.1638, -0.1368, -0.0868,  0.0854, -0.0567,\n",
      "          0.0974],\n",
      "        [ 0.1032,  0.0437, -0.1251,  0.1064,  0.0742, -0.0174,  0.0147, -0.0599,\n",
      "          0.0230, -0.0112,  0.0455,  0.0662,  0.0474,  0.1318, -0.1575,  0.0618,\n",
      "         -0.1495, -0.1417,  0.1371,  0.0357,  0.0297, -0.1127,  0.1567, -0.0903,\n",
      "         -0.0548,  0.1329, -0.0646,  0.0290, -0.1652,  0.1566,  0.0198,  0.0958,\n",
      "          0.1340],\n",
      "        [-0.1264, -0.1097, -0.0310,  0.1030,  0.0474,  0.0453,  0.0176,  0.0153,\n",
      "          0.0914, -0.1519, -0.0871, -0.0083,  0.1666, -0.0504,  0.0989,  0.0913,\n",
      "          0.1330,  0.0642,  0.0806, -0.0087,  0.0445, -0.0425,  0.1560,  0.0528,\n",
      "         -0.0512, -0.1257, -0.1558, -0.0099, -0.1447, -0.0764, -0.0638, -0.1590,\n",
      "          0.1227],\n",
      "        [ 0.1421,  0.0165, -0.0576,  0.1619, -0.0778,  0.1374, -0.0811, -0.0786,\n",
      "          0.1164, -0.1454, -0.0531, -0.1181, -0.0850,  0.0602,  0.1206,  0.0116,\n",
      "          0.1282,  0.1640,  0.0196,  0.1092, -0.1351,  0.0129, -0.0841,  0.0397,\n",
      "         -0.0828, -0.1539, -0.0837,  0.0324,  0.0154, -0.1216, -0.0223,  0.1072,\n",
      "         -0.0225],\n",
      "        [-0.0813, -0.1181, -0.0143, -0.0374, -0.0509, -0.0751, -0.0171,  0.1384,\n",
      "         -0.0531, -0.1193, -0.0206,  0.1282,  0.0703,  0.0140, -0.0134, -0.1160,\n",
      "          0.0839,  0.1098,  0.0738,  0.0905,  0.0907,  0.0917, -0.1451, -0.0085,\n",
      "          0.0610,  0.0470, -0.1366,  0.1124,  0.1043, -0.1202, -0.0469,  0.0732,\n",
      "          0.0221],\n",
      "        [-0.0312, -0.0196,  0.1100, -0.1452,  0.1605,  0.0933, -0.0622,  0.1652,\n",
      "         -0.1641, -0.0932,  0.1499,  0.1398,  0.0132,  0.1126,  0.0534, -0.0546,\n",
      "         -0.0579,  0.0930, -0.1611,  0.0801,  0.0180,  0.1565,  0.1300, -0.1236,\n",
      "          0.1182, -0.0033,  0.0480,  0.0194, -0.1437, -0.0971, -0.0958,  0.1337,\n",
      "         -0.1243],\n",
      "        [-0.1407, -0.1045,  0.1671, -0.1641, -0.0263, -0.1001, -0.1513, -0.1152,\n",
      "         -0.0328,  0.1602, -0.0696,  0.0975, -0.1374,  0.0439,  0.0647, -0.0158,\n",
      "          0.0169,  0.1483,  0.1582,  0.0425, -0.0044, -0.1055,  0.0456, -0.0488,\n",
      "         -0.0700, -0.0655, -0.0640, -0.1464,  0.0428,  0.0433, -0.0816, -0.0460,\n",
      "         -0.0015]], requires_grad=True)\n",
      "Default initial biases: \n",
      "Parameter containing:\n",
      "tensor([ 0.1082, -0.0354,  0.0497,  0.1712, -0.0283, -0.1320,  0.0023,  0.0429,\n",
      "        -0.1734, -0.0048,  0.0411, -0.1676,  0.0324,  0.0634, -0.0105, -0.1541,\n",
      "        -0.0060,  0.0065, -0.0748,  0.1025], requires_grad=True)\n"
     ]
    },
    {
     "name": "stderr",
     "output_type": "stream",
     "text": [
      "/anaconda3/lib/python3.6/site-packages/ipykernel_launcher.py:29: UserWarning: invalid index of a 0-dim tensor. This will be an error in PyTorch 0.5. Use tensor.item() to convert a 0-dim tensor to a Python number\n"
     ]
    },
    {
     "name": "stdout",
     "output_type": "stream",
     "text": [
      "epoch [1/40], training loss:0.0736\n",
      "epoch [2/40], training loss:0.0783\n",
      "epoch [3/40], training loss:0.0676\n",
      "epoch [4/40], training loss:0.0496\n",
      "epoch [5/40], training loss:0.0513\n",
      "epoch [6/40], training loss:0.0409\n",
      "epoch [7/40], training loss:0.0431\n",
      "epoch [8/40], training loss:0.0468\n",
      "epoch [9/40], training loss:0.0385\n",
      "epoch [10/40], training loss:0.0531\n",
      "epoch [11/40], training loss:0.0667\n",
      "epoch [12/40], training loss:0.0363\n",
      "epoch [13/40], training loss:0.0358\n",
      "epoch [14/40], training loss:0.0304\n",
      "epoch [15/40], training loss:0.0458\n",
      "epoch [16/40], training loss:0.0367\n",
      "epoch [17/40], training loss:0.0306\n",
      "epoch [18/40], training loss:0.0358\n",
      "epoch [19/40], training loss:0.0415\n",
      "epoch [20/40], training loss:0.0272\n",
      "epoch [21/40], training loss:0.0531\n",
      "epoch [22/40], training loss:0.0360\n",
      "epoch [23/40], training loss:0.0438\n",
      "epoch [24/40], training loss:0.0296\n",
      "epoch [25/40], training loss:0.0328\n",
      "epoch [26/40], training loss:0.0265\n",
      "epoch [27/40], training loss:0.0348\n",
      "epoch [28/40], training loss:0.0459\n",
      "epoch [29/40], training loss:0.0393\n",
      "epoch [30/40], training loss:0.0309\n",
      "epoch [31/40], training loss:0.0395\n",
      "epoch [32/40], training loss:0.0358\n",
      "epoch [33/40], training loss:0.0465\n",
      "epoch [34/40], training loss:0.0414\n",
      "epoch [35/40], training loss:0.0278\n",
      "epoch [36/40], training loss:0.0365\n",
      "epoch [37/40], training loss:0.0373\n",
      "epoch [38/40], training loss:0.0391\n",
      "epoch [39/40], training loss:0.0344\n",
      "epoch [40/40], training loss:0.0267\n"
     ]
    }
   ],
   "source": [
    "#Print initial weights and biases\n",
    "print(\"Default initial weights: \")\n",
    "print(sae.fc1.weight)\n",
    "print(\"Default initial biases: \")\n",
    "print(sae.fc1.bias)\n",
    "\n",
    "if use_cuda:\n",
    "    net = sae.cuda()\n",
    "    \n",
    "device = torch.device(\"cuda:0\" if torch.cuda.is_available() else \"cpu\")\n",
    "for epoch in range(num_epochs):\n",
    "    for data in datatrainloader:\n",
    "        x1 = data.to(device, dtype=torch.float32)\n",
    "        if use_cuda:\n",
    "            x1 = x1.cuda()\n",
    "        #input to the network is training data\n",
    "        x1 = Variable(x1)\n",
    "        #output of the network is trained inputs; sae() calls the feedborward network\n",
    "        output = sae(x1)\n",
    "        #training loss calculated using criterion which is the L1Loss loss in this case\n",
    "        loss = criterion(output, x1)\n",
    "        #reinitialise the optimiser gradient to 0\n",
    "        optimizer.zero_grad()\n",
    "        #Backward propoagation occurs\n",
    "        loss.backward()\n",
    "        #Optimizer used to smoothen the learning and reducing the loss\n",
    "        optimizer.step()\n",
    "        \n",
    "        losstr=loss.data[0]\n",
    "       # testloss = evaltestloss(sae, datatestloader)\n",
    "    trainingloss.append(np.average(losstr))\n",
    "    print('epoch [{}/{}], training loss:{:.4f}'.format(epoch + 1, num_epochs, losstr))"
   ]
  },
  {
   "cell_type": "code",
   "execution_count": 13,
   "metadata": {},
   "outputs": [
    {
     "name": "stdout",
     "output_type": "stream",
     "text": [
      "epoch [1/40], testing loss:0.0621,\n"
     ]
    },
    {
     "name": "stderr",
     "output_type": "stream",
     "text": [
      "/anaconda3/lib/python3.6/site-packages/ipykernel_launcher.py:19: UserWarning: invalid index of a 0-dim tensor. This will be an error in PyTorch 0.5. Use tensor.item() to convert a 0-dim tensor to a Python number\n"
     ]
    },
    {
     "name": "stdout",
     "output_type": "stream",
     "text": [
      "epoch [2/40], testing loss:0.0843,\n",
      "epoch [3/40], testing loss:0.0417,\n",
      "epoch [4/40], testing loss:0.0257,\n",
      "epoch [5/40], testing loss:0.0284,\n",
      "epoch [6/40], testing loss:0.0398,\n",
      "epoch [7/40], testing loss:0.0388,\n",
      "epoch [8/40], testing loss:0.0332,\n",
      "epoch [9/40], testing loss:0.0461,\n",
      "epoch [10/40], testing loss:0.0523,\n",
      "epoch [11/40], testing loss:0.0308,\n",
      "epoch [12/40], testing loss:0.0322,\n",
      "epoch [13/40], testing loss:0.0225,\n",
      "epoch [14/40], testing loss:0.0322,\n",
      "epoch [15/40], testing loss:0.0602,\n",
      "epoch [16/40], testing loss:0.0248,\n",
      "epoch [17/40], testing loss:0.0198,\n",
      "epoch [18/40], testing loss:0.0345,\n",
      "epoch [19/40], testing loss:0.0309,\n",
      "epoch [20/40], testing loss:0.0305,\n",
      "epoch [21/40], testing loss:0.0334,\n",
      "epoch [22/40], testing loss:0.0335,\n",
      "epoch [23/40], testing loss:0.0258,\n",
      "epoch [24/40], testing loss:0.0318,\n",
      "epoch [25/40], testing loss:0.0285,\n",
      "epoch [26/40], testing loss:0.0318,\n",
      "epoch [27/40], testing loss:0.0353,\n",
      "epoch [28/40], testing loss:0.0292,\n",
      "epoch [29/40], testing loss:0.0524,\n",
      "epoch [30/40], testing loss:0.0548,\n",
      "epoch [31/40], testing loss:0.0292,\n",
      "epoch [32/40], testing loss:0.0246,\n",
      "epoch [33/40], testing loss:0.0284,\n",
      "epoch [34/40], testing loss:0.0256,\n",
      "epoch [35/40], testing loss:0.0315,\n",
      "epoch [36/40], testing loss:0.0273,\n",
      "epoch [37/40], testing loss:0.0292,\n",
      "epoch [38/40], testing loss:0.0234,\n",
      "epoch [39/40], testing loss:0.0265,\n",
      "epoch [40/40], testing loss:0.0275,\n"
     ]
    }
   ],
   "source": [
    "for epoch in range(num_epochs):\n",
    "    testloss = evaltestloss(sae, datatestloader)\n",
    "    testlosses.append(testloss)\n",
    "    print('epoch [{}/{}], testing loss:{:.4f},'.format(epoch+1, num_epochs, testloss))"
   ]
  },
  {
   "cell_type": "code",
   "execution_count": 14,
   "metadata": {},
   "outputs": [
    {
     "data": {
      "image/png": "[encoded data removed]",
      "text/plain": [
       "<Figure size 432x288 with 1 Axes>"
      ]
     },
     "metadata": {},
     "output_type": "display_data"
    }
   ],
   "source": [
    "#Plotting the metrics\n",
    "fig = plt.figure()\n",
    "#printing training loss and test loss\n",
    "plt.subplot(1,1,1)\n",
    "plt.plot(trainingloss)\n",
    "plt.plot(testlosses)\n",
    "plt.title('model loss')\n",
    "plt.ylabel('loss')\n",
    "plt.xlabel('epoch')\n",
    "plt.legend(['train', 'test'], loc='upper right')\n",
    "plt.tight_layout()"
   ]
  },
  {
   "cell_type": "markdown",
   "metadata": {},
   "source": [
    "#### WRITE UP\n",
    "\n",
    "\n",
    "## 1. Training and testing accuracy vs epoch plots\n",
    "We see the following training and testing accuracy vs epoch plots:\n",
    "<br>Encoder\n",
    "<br>The encoder is made of 2 fully connected layers which are merely reducing the features. From 33 input features we get 20 features adn then 20 to 10 features. This is dimension reduction.\n",
    "<br>\n",
    "<br>Decoder\n",
    "<br>The exact opposite of encoding is done, where 10 features are input to get the initial data of 33 dimensions. This is done to form our own data and then see whether we can form the same data again. This was a form of upsupervised learning as we were not given any labels and are supposed to just recontruct the magnetic fields. With such a simple model, and learing rate of 0.01 and weight decay of 0.5, the reconstruction of data can be performed with train and test losses as 0.0267 and 0.0275 respectively. This is shown by the plot for the same is shown below:\n",
    "<br>Accuracy Plot and Loss Plot\n",
    "<br><img src=\"plot1.png\">\n",
    "\n",
    "\n",
    "\n",
    "\n",
    "## 2. Representative of the weight and biases\n",
    "Default initial weights: \n",
    "[[-0.0671, -0.0430, -0.1428, -0.1419, -0.0509,  0.0101,  0.0184, -0.1388,\n",
    "   0.0543,  0.0973,  0.0300,  0.1026, -0.0974, -0.0061, -0.0442, -0.0856,\n",
    "   0.1356, -0.0817, -0.1358, -0.1029, -0.1060, -0.0683,  0.1054,  0.0082,\n",
    "   0.1312,  0.0308,  0.0811, -0.0261, -0.1023,  0.0353,  0.0608,  0.1198,\n",
    "   0.1077],\n",
    "   .....,\n",
    "   [-0.1407, -0.1045,  0.1671, -0.1641, -0.0263, -0.1001, -0.1513, -0.1152,\n",
    "    -0.0328,  0.1602, -0.0696,  0.0975, -0.1374,  0.0439,  0.0647, -0.0158,\n",
    "     0.0169,  0.1483,  0.1582,  0.0425, -0.0044, -0.1055,  0.0456, -0.0488,\n",
    "     -0.0700, -0.0655, -0.0640, -0.1464,  0.0428,  0.0433, -0.0816, -0.0460,\n",
    "     -0.0015]]\n",
    "Default initial biases: \n",
    "[ 0.1082, -0.0354,  ...., -0.0748,  0.1025]\n",
    "<br>The initialization of the weights happens as follows: Weights are initialised within the range [-stdv, stdv] where, stdv = 1. / math.sqrt(self.weight.size(1)) and if the bias is not None, then it is initialised within the same range. \n",
    "<br>It is beneficial to use small value for bias and hence, bias = True is included, but its more commonly used to have 0 biases.\n",
    "\n",
    "\n",
    "## 3. What is used and why\n",
    "4.1 Initial Shape\n",
    "<br>The Three Meter dataset consists of 139201 records having 33 features.\n",
    "<br>This is the dataset having no labels, hence, by using autoencoders, unsupervised learning is to be performed to learn the data and reconstruct the data.\n",
    "<br>Splitting of training data and test data is done. This splitting is done as 85%-15% for training data and testing data respectively which is the default. \n",
    "\n",
    "## 4. About network's shape and layer choices, loss function and activation function\n",
    "### 4.1 Network's shape\n",
    "A typical autoencoder consists of multiple convolutional layers that perform dimensionality reduction using encoder and then reforms the data to make the same data using decoder.\n",
    "The encoder has 2 fully connected layers, which perform reduction from 33 to 20 and then 20 to 10 features. The decoder is exactly the opposite, where 10 to 20 features and then 20 to 33 dimensioned data is formed.\n",
    "<br>Encoder:\n",
    "<br>The shape of the input is (118320, 33), that is 118320 records having 33 features each.\n",
    "<br>The first fully conneted layer will take input equal to number of features that is 33 and reduce it to 20 features. No, activation function is applied. The next and final fully connected layer will transform the 20 features to 10 features. It is observed that activation function makes the larning stagnate and inturn no learning happens.\n",
    "\n",
    "<br>Decoder:\n",
    "<br>The first fully conneted layer will take least reduced features that is 10 and convert it to 20 and then next fully connected layer will increase it to actual dimensions, that is 20 to 33.\n",
    "<br>Here too, no activation function is applied as the encoder and decoder network architectures have to be the same.\n",
    "\n",
    "<br>This is acted upon by Adam Optimizer.\n",
    "\n",
    "\n",
    "### 4.2 Layer Choice\n",
    "<br><br>4.2.1 Fully connected layers\n",
    "<br>This layer takes all 33 features and reduces it to learn better to form the same data again.\n",
    "br><br>4.2.2 Adam Optimizer\n",
    "<br>This is the optimization algorithm used to handle sparse gradients if they occur during training.\n",
    "<br><br>4.2.4 Learning Rate\n",
    "<br>Slower learning rate gives smoother increase in accuracy over faster learning rate as can be seen in the plot.\n",
    "<br><br>4.2.5 Weight decay\n",
    "<br>The weight decay is performed as a regularization technique to decrease the magnitudes of the weights and prevent overfitting. A 0.5 scale weight decay is performed here.\n",
    "\n",
    "\n",
    "### 4.3 Loss Function:\n",
    "L1 Loss is used as the loss function as, it has the quality that leads the weights become sparse during optimization, that is tend to very close to zero. This makes it possible that network having L1 loss ends up with a small subset of their most important inputs and resistant to noise, which would help develop the same data again.\n",
    "\n",
    "\n",
    "### 4.4 Splitting Dataset\n",
    "The dataset is supposed to be technically divided into a 67%-33%; training and testing data because it is widely performed and most efficient. But, here, the most common split is used, as 85%-15%."
   ]
  },
  {
   "cell_type": "code",
   "execution_count": null,
   "metadata": {},
   "outputs": [],
   "source": []
  }
 ],
 "metadata": {
  "kernelspec": {
   "display_name": "Python 3",
   "language": "python",
   "name": "python3"
  },
  "language_info": {
   "codemirror_mode": {
    "name": "ipython",
    "version": 3
   },
   "file_extension": ".py",
   "mimetype": "text/x-python",
   "name": "python",
   "nbconvert_exporter": "python",
   "pygments_lexer": "ipython3",
   "version": "3.6.5"
  }
 },
 "nbformat": 4,
 "nbformat_minor": 2
}
